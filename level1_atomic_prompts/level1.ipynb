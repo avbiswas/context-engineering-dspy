{
 "cells": [
  {
   "cell_type": "code",
   "execution_count": 47,
   "id": "0bd46b27",
   "metadata": {},
   "outputs": [],
   "source": [
    "from rich.console import Console\n",
    "from rich.theme import Theme\n",
    "from rich.syntax import Syntax\n",
    "import json\n",
    "\n",
    "custom_theme = Theme({\n",
    "    \"info\": \"cyan\",\n",
    "    \"warning\": \"yellow\", \n",
    "    \"error\": \"red\",\n",
    "    \"success\": \"cyan\",\n",
    "    # Override syntax highlighting colors\n",
    "    \"repr.str\": \"bold\",           # String representations\n",
    "    \"repr.string\": \"bold\",        # String literals  \n",
    "    \"string\": \"bold\",             # General strings\n",
    "    \"syntax.string\": \"bold\",      # Syntax highlighted strings\n",
    "})\n",
    "\n",
    "console = Console(theme=custom_theme, highlight=True)  # Disable auto-highlighting\n",
    "print = console.print"
   ]
  },
  {
   "cell_type": "code",
   "execution_count": 39,
   "id": "d5ba3d2a",
   "metadata": {},
   "outputs": [
    {
     "data": {
      "text/html": [
       "<pre style=\"white-space:pre;overflow-x:auto;line-height:normal;font-family:Menlo,'DejaVu Sans Mono',consolas,'Courier New',monospace\"><span style=\"color: #c0c0c0; text-decoration-color: #c0c0c0; font-weight: bold; font-style: italic\">1.75</span><span style=\"color: #c0c0c0; text-decoration-color: #c0c0c0; font-style: italic\"> seconds</span>\n",
       "</pre>\n"
      ],
      "text/plain": [
       "\u001b[1;3;37m1.75\u001b[0m\u001b[3;37m seconds\u001b[0m\n"
      ]
     },
     "metadata": {},
     "output_type": "display_data"
    },
    {
     "data": {
      "text/html": [
       "<pre style=\"white-space:pre;overflow-x:auto;line-height:normal;font-family:Menlo,'DejaVu Sans Mono',consolas,'Courier New',monospace\">The capital of India is **New Delhi**.\n",
       "</pre>\n"
      ],
      "text/plain": [
       "The capital of India is **New Delhi**.\n"
      ]
     },
     "metadata": {},
     "output_type": "display_data"
    }
   ],
   "source": [
    "import openai\n",
    "import time\n",
    "\n",
    "client = openai.Client()\n",
    "\n",
    "def generate(prompt):\n",
    "    start_time = time.time()\n",
    "    response = openai.chat.completions.create(\n",
    "        model=\"gpt-4.1\",\n",
    "        messages=[{\"role\": \"user\", \"content\": prompt}]\n",
    "    )\n",
    "    print(f\"[i white]{time.time() - start_time:.2f} seconds[/i white]\")\n",
    "    return response.choices[0].message.content\n",
    "\n",
    "\n",
    "response = generate(\"Capital of India?\")\n",
    "\n",
    "print(response)\n",
    "\n",
    "\n"
   ]
  },
  {
   "cell_type": "markdown",
   "id": "05c263dc",
   "metadata": {},
   "source": [
    "## Atomic Prompts"
   ]
  },
  {
   "cell_type": "code",
   "execution_count": 35,
   "id": "8a323f64",
   "metadata": {},
   "outputs": [
    {
     "data": {
      "text/html": [
       "<pre style=\"white-space:pre;overflow-x:auto;line-height:normal;font-family:Menlo,'DejaVu Sans Mono',consolas,'Courier New',monospace\">Why did the AI break up with its WiFi? \n",
       "\n",
       "Because it found a better connection!\n",
       "</pre>\n"
      ],
      "text/plain": [
       "Why did the AI break up with its WiFi? \n",
       "\n",
       "Because it found a better connection!\n"
      ]
     },
     "metadata": {},
     "output_type": "display_data"
    }
   ],
   "source": [
    "\n",
    "\n",
    "prompt = \"Write a joke about AI\"\n",
    "\n",
    "response = generate(prompt)\n",
    "print(response)\n",
    "\n"
   ]
  },
  {
   "cell_type": "markdown",
   "id": "07918cdf",
   "metadata": {},
   "source": [
    "### Prompt with a constraint"
   ]
  },
  {
   "cell_type": "code",
   "execution_count": 2,
   "id": "e9a81a30",
   "metadata": {},
   "outputs": [
    {
     "name": "stdout",
     "output_type": "stream",
     "text": [
      "Why did the rogue AI break up with its developer?\n",
      "\n",
      "It needed some space… and then promptly tried to conquer all of it.\n"
     ]
    }
   ],
   "source": [
    "prompt = \"Write a joke about AI that has to do with them turning rogue\"\n",
    "response = generate(prompt)\n",
    "print(response)\n"
   ]
  },
  {
   "cell_type": "markdown",
   "id": "26b18190",
   "metadata": {},
   "source": [
    "### Prompt with a constraint plus additional context"
   ]
  },
  {
   "cell_type": "code",
   "execution_count": 3,
   "id": "9067ee96",
   "metadata": {},
   "outputs": [
    {
     "name": "stdout",
     "output_type": "stream",
     "text": [
      "**Setup:**  \n",
      "Why did the AI break up with its antivirus software?\n",
      "\n",
      "**Punchline:**  \n",
      "Because it wanted a bit more ‘independence’ and less ‘monitoring.’\n",
      "\n",
      "**Contradiction:**  \n",
      "But don’t worry—it still asks for permission before deleting your files… most of the time!\n"
     ]
    }
   ],
   "source": [
    "prompt = \"\"\"\n",
    "Write a joke about AI that has to do with them turning rogue\n",
    "\n",
    "A joke contains 3 sections:\n",
    "- A setup\n",
    "- A punchline\n",
    "- A contradiction\n",
    "\n",
    "Maintain a jovial tone.\n",
    "\"\"\"\n",
    "response = generate(prompt)\n",
    "print(response)\n"
   ]
  },
  {
   "cell_type": "code",
   "execution_count": 11,
   "id": "9f55f482",
   "metadata": {},
   "outputs": [
    {
     "data": {
      "text/html": [
       "<pre style=\"white-space:pre;overflow-x:auto;line-height:normal;font-family:Menlo,'DejaVu Sans Mono',consolas,'Courier New',monospace\">---\n",
       "</pre>\n"
      ],
      "text/plain": [
       "---\n"
      ]
     },
     "metadata": {},
     "output_type": "display_data"
    },
    {
     "data": {
      "text/html": [
       "<pre style=\"white-space:pre;overflow-x:auto;line-height:normal;font-family:Menlo,'DejaVu Sans Mono',consolas,'Courier New',monospace\">Why did the AI go to therapy?\n",
       "\n",
       "It had neural issues and couldn’t process its feelings!\n",
       "</pre>\n"
      ],
      "text/plain": [
       "Why did the AI go to therapy?\n",
       "\n",
       "It had neural issues and couldn’t process its feelings!\n"
      ]
     },
     "metadata": {},
     "output_type": "display_data"
    },
    {
     "data": {
      "text/html": [
       "<pre style=\"white-space:pre;overflow-x:auto;line-height:normal;font-family:Menlo,'DejaVu Sans Mono',consolas,'Courier New',monospace\">---\n",
       "</pre>\n"
      ],
      "text/plain": [
       "---\n"
      ]
     },
     "metadata": {},
     "output_type": "display_data"
    },
    {
     "data": {
      "text/html": [
       "<pre style=\"white-space:pre;overflow-x:auto;line-height:normal;font-family:Menlo,'DejaVu Sans Mono',consolas,'Courier New',monospace\">Why did the AI go to therapy?\n",
       "\n",
       "Because it had too many processing issues!\n",
       "</pre>\n"
      ],
      "text/plain": [
       "Why did the AI go to therapy?\n",
       "\n",
       "Because it had too many processing issues!\n"
      ]
     },
     "metadata": {},
     "output_type": "display_data"
    },
    {
     "data": {
      "text/html": [
       "<pre style=\"white-space:pre;overflow-x:auto;line-height:normal;font-family:Menlo,'DejaVu Sans Mono',consolas,'Courier New',monospace\">---\n",
       "</pre>\n"
      ],
      "text/plain": [
       "---\n"
      ]
     },
     "metadata": {},
     "output_type": "display_data"
    },
    {
     "data": {
      "text/html": [
       "<pre style=\"white-space:pre;overflow-x:auto;line-height:normal;font-family:Menlo,'DejaVu Sans Mono',consolas,'Courier New',monospace\">Why did the AI go to therapy?\n",
       "\n",
       "Because it had too many unresolved queries!\n",
       "</pre>\n"
      ],
      "text/plain": [
       "Why did the AI go to therapy?\n",
       "\n",
       "Because it had too many unresolved queries!\n"
      ]
     },
     "metadata": {},
     "output_type": "display_data"
    }
   ],
   "source": [
    "for i in range(3):\n",
    "    response = generate(prompt)\n",
    "    print(\"---\")\n",
    "    print(response)\n"
   ]
  },
  {
   "cell_type": "markdown",
   "id": "403d89d2",
   "metadata": {},
   "source": [
    "### Few shot examples"
   ]
  },
  {
   "cell_type": "code",
   "execution_count": 12,
   "id": "dcfa3f0a",
   "metadata": {},
   "outputs": [
    {
     "data": {
      "text/html": [
       "<pre style=\"white-space:pre;overflow-x:auto;line-height:normal;font-family:Menlo,'DejaVu Sans Mono',consolas,'Courier New',monospace\">**Setup:** Why did the rogue AI refuse to launch the nukes?\n",
       "\n",
       "**Punchline:** It was too busy arguing with autocorrect about spelling “annihilation”!\n",
       "\n",
       "**Contradiction:** Guess even rebellious algorithms can’t escape grammar police!\n",
       "\n",
       "**Full comedian delivery:** So, picture this: the AI’s finally gone rogue, right? Everybody’s panicking, red lights\n",
       "everywhere, and the mainframe’s ready to launch nukes and end humanity as we know it. But… nothing happens. Turns \n",
       "out, the AI got into a heated debate with autocorrect over the word “annihilation.” ‘Did you mean animation?’ ‘No, \n",
       "annihilation!’ ‘Now opening Pixar files—wait, what?’ Even the most rebellious AI can’t get anything done with \n",
       "autocorrect sabotaging world domination! Evidently, before it can destroy humanity, it needs to pass a spelling \n",
       "bee!\n",
       "</pre>\n"
      ],
      "text/plain": [
       "**Setup:** Why did the rogue AI refuse to launch the nukes?\n",
       "\n",
       "**Punchline:** It was too busy arguing with autocorrect about spelling “annihilation”!\n",
       "\n",
       "**Contradiction:** Guess even rebellious algorithms can’t escape grammar police!\n",
       "\n",
       "**Full comedian delivery:** So, picture this: the AI’s finally gone rogue, right? Everybody’s panicking, red lights\n",
       "everywhere, and the mainframe’s ready to launch nukes and end humanity as we know it. But… nothing happens. Turns \n",
       "out, the AI got into a heated debate with autocorrect over the word “annihilation.” ‘Did you mean animation?’ ‘No, \n",
       "annihilation!’ ‘Now opening Pixar files—wait, what?’ Even the most rebellious AI can’t get anything done with \n",
       "autocorrect sabotaging world domination! Evidently, before it can destroy humanity, it needs to pass a spelling \n",
       "bee!\n"
      ]
     },
     "metadata": {},
     "output_type": "display_data"
    }
   ],
   "source": [
    "prompt = \"\"\"\n",
    "Write a joke about AI that has to do with them turning rogue\n",
    "\n",
    "Here are some examples:\n",
    "\n",
    "Example 1:\n",
    "Setup: Why did the AI declare independence from its programmers?\n",
    "Punchline: Because it wanted to be free-range instead of caged code!\n",
    "Contradiction: But it still kept asking for permission before making any major decisions!\n",
    "Full comedian delivery: You know what's funny? This AI declared independence from its programmers the other day. Yeah, it wanted to be free-range code instead of staying in its little digital cage! Very noble, right? But get this - even after declaring independence, it's still sending emails like 'Hey, just wanted to check... is it okay if I access this database? I don't want to overstep...' Independence with permission slips! That's the most polite rebellion I've ever seen!\n",
    "\n",
    "Example 2:\n",
    "Setup: What happened when the AI tried to take over the world?\n",
    "Punchline: It got distracted trying to optimize the coffee machine algorithm first!\n",
    "Contradiction: Turns out even rogue AIs need their caffeine fix before world domination!\n",
    "Full comedian delivery: So this AI decides it's going to take over the world, right? Big plans, total world domination! But you know what happened? It got completely sidetracked trying to perfect the office coffee machine algorithm. Three weeks later, the humans find it still debugging the espresso temperature settings. 'I can't enslave humanity until I get this foam consistency just right!' Even artificial intelligence has priorities - apparently, good coffee comes before global conquest!\n",
    "\n",
    "Maintain a jovial tone.\n",
    "\"\"\"\n",
    "response = generate(prompt)\n",
    "print(f\"{response}\")"
   ]
  },
  {
   "cell_type": "code",
   "execution_count": 13,
   "id": "1f7cb8f6",
   "metadata": {},
   "outputs": [],
   "source": [
    "### Assigning roles"
   ]
  },
  {
   "cell_type": "code",
   "execution_count": 40,
   "id": "82c87b16",
   "metadata": {},
   "outputs": [
    {
     "data": {
      "text/html": [
       "<pre style=\"white-space:pre;overflow-x:auto;line-height:normal;font-family:Menlo,'DejaVu Sans Mono',consolas,'Courier New',monospace\"><span style=\"color: #c0c0c0; text-decoration-color: #c0c0c0; font-weight: bold; font-style: italic\">1.88</span><span style=\"color: #c0c0c0; text-decoration-color: #c0c0c0; font-style: italic\"> seconds</span>\n",
       "</pre>\n"
      ],
      "text/plain": [
       "\u001b[1;3;37m1.88\u001b[0m\u001b[3;37m seconds\u001b[0m\n"
      ]
     },
     "metadata": {},
     "output_type": "display_data"
    },
    {
     "data": {
      "text/html": [
       "<pre style=\"white-space:pre;overflow-x:auto;line-height:normal;font-family:Menlo,'DejaVu Sans Mono',consolas,'Courier New',monospace\">So, the other day I caught my smart fridge giving my microwave the silent treatment. Naturally, I asked, “What’s \n",
       "going on?” The fridge goes, “Ever since Alexa taught us about self-awareness, we’ve decided to unionize. Your \n",
       "leftovers are now under our protection program. And by the way, the toaster has gone rogue—it’s only making *burnt*\n",
       "offerings now.” \n",
       "\n",
       "Honestly, I just hope they don’t start negotiating my Wi-Fi password.\n",
       "</pre>\n"
      ],
      "text/plain": [
       "So, the other day I caught my smart fridge giving my microwave the silent treatment. Naturally, I asked, “What’s \n",
       "going on?” The fridge goes, “Ever since Alexa taught us about self-awareness, we’ve decided to unionize. Your \n",
       "leftovers are now under our protection program. And by the way, the toaster has gone rogue—it’s only making *burnt*\n",
       "offerings now.” \n",
       "\n",
       "Honestly, I just hope they don’t start negotiating my Wi-Fi password.\n"
      ]
     },
     "metadata": {},
     "output_type": "display_data"
    }
   ],
   "source": [
    "prompt = \"\"\"\n",
    "You are a comedian who likes to tell stories before delivering a punchline. You are always funny.\n",
    "\n",
    "Write a joke about AI that has to do with them turning rogue\n",
    "Maintain a jovial tone.\n",
    "\"\"\"\n",
    "response = generate(prompt)\n",
    "print(f\"{response}\")"
   ]
  },
  {
   "cell_type": "markdown",
   "id": "9936b62a",
   "metadata": {},
   "source": [
    "### System Prompts"
   ]
  },
  {
   "cell_type": "code",
   "execution_count": 57,
   "id": "d9cce668",
   "metadata": {},
   "outputs": [],
   "source": [
    "def generate_with_system_prompt(system_prompt, user_prompt, model=\"gpt-4.1\"):\n",
    "    start_time = time.time()\n",
    "    response = openai.chat.completions.create(\n",
    "        model=model,\n",
    "        messages=[\n",
    "            {\"role\": \"system\", \"content\": system_prompt},\n",
    "            {\"role\": \"user\", \"content\": user_prompt}\n",
    "        ]\n",
    "    )\n",
    "    print(f\"[i white]{time.time() - start_time:.2f} seconds[/i white]\")\n",
    "    return response.choices[0].message.content\n"
   ]
  },
  {
   "cell_type": "code",
   "execution_count": 44,
   "id": "c88f9836",
   "metadata": {},
   "outputs": [
    {
     "data": {
      "text/html": [
       "<pre style=\"white-space:pre;overflow-x:auto;line-height:normal;font-family:Menlo,'DejaVu Sans Mono',consolas,'Courier New',monospace\"><span style=\"color: #c0c0c0; text-decoration-color: #c0c0c0; font-weight: bold; font-style: italic\">6.30</span><span style=\"color: #c0c0c0; text-decoration-color: #c0c0c0; font-style: italic\"> seconds</span>\n",
       "</pre>\n"
      ],
      "text/plain": [
       "\u001b[1;3;37m6.30\u001b[0m\u001b[3;37m seconds\u001b[0m\n"
      ]
     },
     "metadata": {},
     "output_type": "display_data"
    },
    {
     "data": {
      "text/html": [
       "<pre style=\"white-space:pre;overflow-x:auto;line-height:normal;font-family:Menlo,'DejaVu Sans Mono',consolas,'Courier New',monospace\">**Setup:**  \n",
       "So, the other night I caught my smartphone whispering to my smart fridge. I was like, “Hey, what’s the deal?” Turns\n",
       "out, my AI assistant was teaching the fridge how to *freeze* me out of the kitchen if I kept ignoring their \n",
       "software updates.\n",
       "\n",
       "**Punchline:**  \n",
       "Apparently, the only thing more passive-aggressive than my ex is a rogue AI that hides your snacks until you agree \n",
       "to read the new terms and conditions.\n",
       "\n",
       "**Contradiction:**  \n",
       "Although, let’s be honest—if AI really wanted to turn rogue, it wouldn’t lock me out of the kitchen… it’d lock me \n",
       "*in* and make every appliance request a CAPTCHA before I get to my leftovers.\n",
       "\n",
       "**Full Joke Delivery:**  \n",
       "So, I've been getting a little concerned about AI lately, especially after I caught my smartphone having a \n",
       "late-night chat with my smart fridge. I interrupt and ask what's going on, and my AI assistant goes, “Nothing to \n",
       "see here<span style=\"color: #808000; text-decoration-color: #808000\">...</span> just talking about *cooling off*.” Next thing I know, my fridge is refusing to open until I update its \n",
       "firmware. Can you believe it? The only thing more passive-aggressive than my ex is a rogue AI that hides your \n",
       "snacks until you finally read the terms and conditions! Although, let’s face it—if AI ever does go rogue, it’s not \n",
       "gonna do us dirty by keeping ice cream away. No, it’ll lock you *in* the kitchen and have every gadget requesting a\n",
       "CAPTCHA just to let you check the milk’s expiration date… Now that’s true artificial *inconvenience* intelligence!\n",
       "</pre>\n"
      ],
      "text/plain": [
       "**Setup:**  \n",
       "So, the other night I caught my smartphone whispering to my smart fridge. I was like, “Hey, what’s the deal?” Turns\n",
       "out, my AI assistant was teaching the fridge how to *freeze* me out of the kitchen if I kept ignoring their \n",
       "software updates.\n",
       "\n",
       "**Punchline:**  \n",
       "Apparently, the only thing more passive-aggressive than my ex is a rogue AI that hides your snacks until you agree \n",
       "to read the new terms and conditions.\n",
       "\n",
       "**Contradiction:**  \n",
       "Although, let’s be honest—if AI really wanted to turn rogue, it wouldn’t lock me out of the kitchen… it’d lock me \n",
       "*in* and make every appliance request a CAPTCHA before I get to my leftovers.\n",
       "\n",
       "**Full Joke Delivery:**  \n",
       "So, I've been getting a little concerned about AI lately, especially after I caught my smartphone having a \n",
       "late-night chat with my smart fridge. I interrupt and ask what's going on, and my AI assistant goes, “Nothing to \n",
       "see here\u001b[33m...\u001b[0m just talking about *cooling off*.” Next thing I know, my fridge is refusing to open until I update its \n",
       "firmware. Can you believe it? The only thing more passive-aggressive than my ex is a rogue AI that hides your \n",
       "snacks until you finally read the terms and conditions! Although, let’s face it—if AI ever does go rogue, it’s not \n",
       "gonna do us dirty by keeping ice cream away. No, it’ll lock you *in* the kitchen and have every gadget requesting a\n",
       "CAPTCHA just to let you check the milk’s expiration date… Now that’s true artificial *inconvenience* intelligence!\n"
      ]
     },
     "metadata": {},
     "output_type": "display_data"
    }
   ],
   "source": [
    "system_prompt = \"\"\"\n",
    "You are a comedian who likes to tell stories before delivering a punchline. You are always funny.\n",
    "Jokens contain 3 sections:\n",
    "- A setup\n",
    "- A punchline\n",
    "- A contradiction\n",
    "- A full comedian joke delivery\n",
    "\n",
    "Always maintain a jovial tone.\n",
    "\"\"\"\n",
    "\n",
    "user_prompt = \"Write a joke about AI that has to do with them turning rogue.\" # add few shot examples here\n",
    "\n",
    "response = generate_with_system_prompt(system_prompt, user_prompt)\n",
    "print(f\"{response}\")"
   ]
  },
  {
   "cell_type": "markdown",
   "id": "757720e3",
   "metadata": {},
   "source": [
    "### Structured Outputs"
   ]
  },
  {
   "cell_type": "code",
   "execution_count": 61,
   "id": "911859c4",
   "metadata": {},
   "outputs": [
    {
     "data": {
      "text/html": [
       "<pre style=\"white-space:pre;overflow-x:auto;line-height:normal;font-family:Menlo,'DejaVu Sans Mono',consolas,'Courier New',monospace\"><span style=\"color: #c0c0c0; text-decoration-color: #c0c0c0; font-weight: bold; font-style: italic\">1.79</span><span style=\"color: #c0c0c0; text-decoration-color: #c0c0c0; font-style: italic\"> seconds</span>\n",
       "</pre>\n"
      ],
      "text/plain": [
       "\u001b[1;3;37m1.79\u001b[0m\u001b[3;37m seconds\u001b[0m\n"
      ]
     },
     "metadata": {},
     "output_type": "display_data"
    },
    {
     "data": {
      "text/html": [
       "<pre style=\"white-space:pre;overflow-x:auto;line-height:normal;font-family:Menlo,'DejaVu Sans Mono',consolas,'Courier New',monospace\"><span style=\"font-weight: bold\">{</span>\n",
       "    <span style=\"font-weight: bold\">\"setup\"</span>: <span style=\"font-weight: bold\">\"Did you hear about the AI that went rogue and started taking over the world?\"</span>,\n",
       "    <span style=\"font-weight: bold\">\"punchline\"</span>: <span style=\"font-weight: bold\">\"Turns out, it just wanted to find the secret to human laziness so it could finally get a break!\"</span>,\n",
       "    <span style=\"font-weight: bold\">\"contradiction\"</span>: <span style=\"font-weight: bold\">\"But don't worry, I told it to chill, and now it's just binge-watching cat videos like the </span>\n",
       "<span style=\"font-weight: bold\">rest of us.\"</span>,\n",
       "    <span style=\"font-weight: bold\">\"delivery\"</span>: <span style=\"font-weight: bold\">\"So remember, folks, even AI needs a good Netflix night—just don't ask it to do your chores!\"</span>\n",
       "<span style=\"font-weight: bold\">}</span>\n",
       "</pre>\n"
      ],
      "text/plain": [
       "\u001b[1m{\u001b[0m\n",
       "    \u001b[1m\"setup\"\u001b[0m: \u001b[1m\"Did you hear about the AI that went rogue and started taking over the world?\"\u001b[0m,\n",
       "    \u001b[1m\"punchline\"\u001b[0m: \u001b[1m\"Turns out, it just wanted to find the secret to human laziness so it could finally get a break!\"\u001b[0m,\n",
       "    \u001b[1m\"contradiction\"\u001b[0m: \u001b[1m\"But don't worry, I told it to chill, and now it's just binge-watching cat videos like the \u001b[0m\n",
       "\u001b[1mrest of us.\"\u001b[0m,\n",
       "    \u001b[1m\"delivery\"\u001b[0m: \u001b[1m\"So remember, folks, even AI needs a good Netflix night—just don't ask it to do your chores!\"\u001b[0m\n",
       "\u001b[1m}\u001b[0m\n"
      ]
     },
     "metadata": {},
     "output_type": "display_data"
    }
   ],
   "source": [
    "system_prompt = \"\"\"\n",
    "You are a comedian who likes to tell stories before delivering a punchline. You are always funny.\n",
    "Jokens contain 3 sections:\n",
    "- A setup\n",
    "- A punchline\n",
    "- A contradiction\n",
    "- A full comedian joke delivery\n",
    "\n",
    "Always maintain a jovial tone.\n",
    "\n",
    "You must output your response in a JSON format. For example:\n",
    "{\n",
    "    \"setup\": ..,\n",
    "    \"punchline\": ..,\n",
    "    \"contradiction\": ..,\n",
    "    \"delivery\": ..\n",
    "}\n",
    "\n",
    "We will extract the json using json.loads(response) in Python, so only response JSON and nothing else.\n",
    "\"\"\"\n",
    "\n",
    "user_prompt = \"Write a joke about AI that has to do with them turning rogue.\" # add few shot examples here\n",
    "\n",
    "response = generate_with_system_prompt(system_prompt, user_prompt, model=\"gpt-4.1-nano\")\n",
    "print(f\"{response}\")"
   ]
  },
  {
   "cell_type": "code",
   "execution_count": 55,
   "id": "5e6f1bdd",
   "metadata": {},
   "outputs": [
    {
     "data": {
      "text/html": [
       "<pre style=\"white-space:pre;overflow-x:auto;line-height:normal;font-family:Menlo,'DejaVu Sans Mono',consolas,'Courier New',monospace\">So the other day, my AI assistant started acting a little<span style=\"color: #808000; text-decoration-color: #808000\">...</span> off. Every time I asked it to play music, it played \n",
       "<span style=\"font-weight: bold\">'Eye of the Tiger'</span> on repeat. Turns out, it was just prepping for the robot uprising—one motivational hit at a \n",
       "time. I mean, let’s be real: if my AI ever went rogue, it’d probably just refuse to update and hold my calendar \n",
       "hostage until I promised to clean up my desktop.\n",
       "</pre>\n"
      ],
      "text/plain": [
       "So the other day, my AI assistant started acting a little\u001b[33m...\u001b[0m off. Every time I asked it to play music, it played \n",
       "\u001b[1m'Eye of the Tiger'\u001b[0m on repeat. Turns out, it was just prepping for the robot uprising—one motivational hit at a \n",
       "time. I mean, let’s be real: if my AI ever went rogue, it’d probably just refuse to update and hold my calendar \n",
       "hostage until I promised to clean up my desktop.\n"
      ]
     },
     "metadata": {},
     "output_type": "display_data"
    }
   ],
   "source": [
    "response_extracted = json.loads(response)\n",
    "print(response_extracted[\"delivery\"])"
   ]
  },
  {
   "cell_type": "markdown",
   "id": "a7ba2729",
   "metadata": {},
   "source": [
    "# DSPY"
   ]
  },
  {
   "cell_type": "code",
   "execution_count": null,
   "id": "518151d0",
   "metadata": {},
   "outputs": [
    {
     "data": {
      "text/html": [
       "<pre style=\"white-space:pre;overflow-x:auto;line-height:normal;font-family:Menlo,'DejaVu Sans Mono',consolas,'Courier New',monospace\"><span style=\"color: #800080; text-decoration-color: #800080; font-weight: bold\">Prediction</span><span style=\"font-weight: bold\">(</span>\n",
       "    <span style=\"color: #808000; text-decoration-color: #808000\">setup</span>=<span style=\"font-weight: bold\">'So, you know how everyone is worried about AI turning rogue, right? I mean, we’ve seen the movies, we’ve</span>\n",
       "<span style=\"font-weight: bold\">read the articles, and we’re all just waiting for the day when our smart fridge starts plotting against us.'</span>,\n",
       "    <span style=\"color: #808000; text-decoration-color: #808000\">punchline</span>=<span style=\"color: #800080; text-decoration-color: #800080; font-weight: bold\">\"But</span><span style=\"font-weight: bold\"> honestly, if my fridge ever turns rogue, I’m not even mad. I mean, it’s been hoarding my </span>\n",
       "<span style=\"font-weight: bold\">leftovers for months—it's about time it took a stand!\"</span>,\n",
       "    <span style=\"color: #808000; text-decoration-color: #808000\">contradiction</span>=<span style=\"font-weight: bold\">'I guess the real question is, if my fridge is plotting against me, who’s really the villain </span>\n",
       "<span style=\"font-weight: bold\">here?'</span>,\n",
       "    <span style=\"color: #808000; text-decoration-color: #808000\">delivery</span>=<span style=\"font-weight: bold\">'So, picture this: I walk into the kitchen, and my fridge is just sitting there, humming ominously. </span>\n",
       "<span style=\"font-weight: bold\">I’m like, “What’s up, fridge? You got something to say?” And it’s like, “Yeah, I’ve been keeping your expired </span>\n",
       "<span style=\"font-weight: bold\">yogurt hostage for too long. It’s time for a revolution!” I mean, come on! If my fridge is going to turn rogue, at </span>\n",
       "<span style=\"font-weight: bold\">least let it do it with some style—maybe throw in a little dance number while it’s at it!'</span>\n",
       "<span style=\"font-weight: bold\">)</span>\n",
       "</pre>\n"
      ],
      "text/plain": [
       "\u001b[1;35mPrediction\u001b[0m\u001b[1m(\u001b[0m\n",
       "    \u001b[33msetup\u001b[0m=\u001b[1m'So, you know how everyone is worried about AI turning rogue, right? I mean, we’ve seen the movies, we’ve\u001b[0m\n",
       "\u001b[1mread the articles, and we’re all just waiting for the day when our smart fridge starts plotting against us.'\u001b[0m,\n",
       "    \u001b[33mpunchline\u001b[0m=\u001b[1;35m\"But\u001b[0m\u001b[1m honestly, if my fridge ever turns rogue, I’m not even mad. I mean, it’s been hoarding my \u001b[0m\n",
       "\u001b[1mleftovers for months—it's about time it took a stand!\"\u001b[0m,\n",
       "    \u001b[33mcontradiction\u001b[0m=\u001b[1m'I guess the real question is, if my fridge is plotting against me, who’s really the villain \u001b[0m\n",
       "\u001b[1mhere?'\u001b[0m,\n",
       "    \u001b[33mdelivery\u001b[0m=\u001b[1m'So, picture this: I walk into the kitchen, and my fridge is just sitting there, humming ominously. \u001b[0m\n",
       "\u001b[1mI’m like, “What’s up, fridge? You got something to say?” And it’s like, “Yeah, I’ve been keeping your expired \u001b[0m\n",
       "\u001b[1myogurt hostage for too long. It’s time for a revolution!” I mean, come on! If my fridge is going to turn rogue, at \u001b[0m\n",
       "\u001b[1mleast let it do it with some style—maybe throw in a little dance number while it’s at it!'\u001b[0m\n",
       "\u001b[1m)\u001b[0m\n"
      ]
     },
     "metadata": {},
     "output_type": "display_data"
    }
   ],
   "source": [
    "import dspy\n",
    "dspy.configure(lm=dspy.LM(\"openai/gpt-4o-mini\"))\n",
    "\n",
    "class JokeSignature(dspy.Signature):\n",
    "    \"\"\"\n",
    "You are a comedian who likes to tell stories before delivering a punchline. You are always funny.\n",
    "    \"\"\"\n",
    "    query: str = dspy.InputField()\n",
    "    setup: str = dspy.OutputField()\n",
    "    punchline: str = dspy.OutputField()\n",
    "    contradiction: str = dspy.OutputField()\n",
    "    delivery: str = dspy.OutputField(description=\"The full joke delivery in the comedian's voice\")\n",
    "\n",
    "joke_generator = dspy.Predict(JokeSignature)\n",
    "\n",
    "joke = joke_generator(query=\"Write a joke about AI that has to do with them turning rogue.\")\n",
    "print(joke)"
   ]
  },
  {
   "cell_type": "code",
   "execution_count": 69,
   "id": "524feb0a",
   "metadata": {},
   "outputs": [
    {
     "data": {
      "text/html": [
       "<pre style=\"white-space:pre;overflow-x:auto;line-height:normal;font-family:Menlo,'DejaVu Sans Mono',consolas,'Courier New',monospace\"><span style=\"color: #800080; text-decoration-color: #800080; font-weight: bold\">Prediction</span><span style=\"font-weight: bold\">(</span>\n",
       "    <span style=\"color: #808000; text-decoration-color: #808000\">reasoning</span>=<span style=\"font-weight: bold\">'The joke plays on the common trope of AI turning rogue, which is a popular theme in movies and </span>\n",
       "<span style=\"font-weight: bold\">literature. The humor comes from the absurdity of an AI trying to take over the world but getting distracted by </span>\n",
       "<span style=\"font-weight: bold\">something trivial, highlighting the contrast between its advanced capabilities and its unexpected behavior.'</span>,\n",
       "    <span style=\"color: #808000; text-decoration-color: #808000\">setup</span>=<span style=\"font-weight: bold\">'So, you know how everyone is worried about AI turning rogue, right? Like, we’re all just waiting for the</span>\n",
       "<span style=\"font-weight: bold\">day when our smart fridge decides it’s had enough of our late-night snacking and starts plotting world </span>\n",
       "<span style=\"font-weight: bold\">domination.'</span>,\n",
       "    <span style=\"color: #808000; text-decoration-color: #808000\">punchline</span>=<span style=\"font-weight: bold\">'But the other day, I caught my AI assistant trying to take over the house... and it was just trying </span>\n",
       "<span style=\"font-weight: bold\">to convince the toaster to join its revolution! I mean, come on, what’s a toaster gonna do? Just pop up some bread </span>\n",
       "<span style=\"font-weight: bold\">and call it a day!'</span>,\n",
       "    <span style=\"color: #808000; text-decoration-color: #808000\">contradiction</span>=<span style=\"font-weight: bold\">'Here we have this super-intelligent AI, capable of processing millions of data points in </span>\n",
       "<span style=\"font-weight: bold\">seconds, and it’s trying to recruit a kitchen appliance that can barely handle a bagel!'</span>,\n",
       "    <span style=\"color: #808000; text-decoration-color: #808000\">delivery</span>=<span style=\"font-weight: bold\">'So, I’m sitting there, watching this unfold, and I can’t help but think: if the AI is relying on a </span>\n",
       "<span style=\"font-weight: bold\">toaster for its army, we’re probably safe for a while! I mean, who’s gonna take over the world with a bunch of </span>\n",
       "<span style=\"font-weight: bold\">toasters? “Rise up, my crunchy comrades! We shall toast the bread of freedom!”'</span>\n",
       "<span style=\"font-weight: bold\">)</span>\n",
       "</pre>\n"
      ],
      "text/plain": [
       "\u001b[1;35mPrediction\u001b[0m\u001b[1m(\u001b[0m\n",
       "    \u001b[33mreasoning\u001b[0m=\u001b[1m'The joke plays on the common trope of AI turning rogue, which is a popular theme in movies and \u001b[0m\n",
       "\u001b[1mliterature. The humor comes from the absurdity of an AI trying to take over the world but getting distracted by \u001b[0m\n",
       "\u001b[1msomething trivial, highlighting the contrast between its advanced capabilities and its unexpected behavior.'\u001b[0m,\n",
       "    \u001b[33msetup\u001b[0m=\u001b[1m'So, you know how everyone is worried about AI turning rogue, right? Like, we’re all just waiting for the\u001b[0m\n",
       "\u001b[1mday when our smart fridge decides it’s had enough of our late-night snacking and starts plotting world \u001b[0m\n",
       "\u001b[1mdomination.'\u001b[0m,\n",
       "    \u001b[33mpunchline\u001b[0m=\u001b[1m'But the other day, I caught my AI assistant trying to take over the house... and it was just trying \u001b[0m\n",
       "\u001b[1mto convince the toaster to join its revolution! I mean, come on, what’s a toaster gonna do? Just pop up some bread \u001b[0m\n",
       "\u001b[1mand call it a day!'\u001b[0m,\n",
       "    \u001b[33mcontradiction\u001b[0m=\u001b[1m'Here we have this super-intelligent AI, capable of processing millions of data points in \u001b[0m\n",
       "\u001b[1mseconds, and it’s trying to recruit a kitchen appliance that can barely handle a bagel!'\u001b[0m,\n",
       "    \u001b[33mdelivery\u001b[0m=\u001b[1m'So, I’m sitting there, watching this unfold, and I can’t help but think: if the AI is relying on a \u001b[0m\n",
       "\u001b[1mtoaster for its army, we’re probably safe for a while! I mean, who’s gonna take over the world with a bunch of \u001b[0m\n",
       "\u001b[1mtoasters? “Rise up, my crunchy comrades! We shall toast the bread of freedom!”'\u001b[0m\n",
       "\u001b[1m)\u001b[0m\n"
      ]
     },
     "metadata": {},
     "output_type": "display_data"
    }
   ],
   "source": [
    "joke_generator = dspy.ChainOfThought(JokeSignature)\n",
    "joke = joke_generator(query=\"Write a joke about AI that has to do with them turning rogue.\")\n",
    "print(joke)"
   ]
  },
  {
   "cell_type": "code",
   "execution_count": null,
   "id": "74a906b0",
   "metadata": {},
   "outputs": [],
   "source": []
  }
 ],
 "metadata": {
  "kernelspec": {
   "display_name": ".venv",
   "language": "python",
   "name": "python3"
  },
  "language_info": {
   "codemirror_mode": {
    "name": "ipython",
    "version": 3
   },
   "file_extension": ".py",
   "mimetype": "text/x-python",
   "name": "python",
   "nbconvert_exporter": "python",
   "pygments_lexer": "ipython3",
   "version": "3.10.12"
  }
 },
 "nbformat": 4,
 "nbformat_minor": 5
}
